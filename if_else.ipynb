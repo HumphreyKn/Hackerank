{
 "cells": [
  {
   "attachments": {},
   "cell_type": "markdown",
   "metadata": {},
   "source": [
    "# Python If-Else\n",
    "\n",
    "## Task\n",
    "Given an integer `n`, perform the following conditional actions:\n",
    "    - if `n` is odd, print `Wierd`\n",
    "    - if `n` is even and in the inclusive range of 2 to 5, print `Not Wierd`\n",
    "    - if `n` is even and in the inclisuve range of 6 to 20, print `Wierd`\n",
    "    - If `n` is even and greater than 20, print `Not Wierd`\n",
    "\n",
    "### Input format\n",
    "A single line containing a positive integer `n`.\n",
    "\n",
    "### Constraints\n",
    "$$1\\leq n \\leq 100$$\n",
    "\n",
    "### Output fotmat\n",
    "Print `Wierd` if the number is wierd. Otherwise print `Not Wierd`.\n",
    "\n",
    "### Sample Inputs and Outputs\n",
    "#### Sample input 0\n",
    "\n",
    "```\n",
    "3\n",
    "```\n",
    "#### Sample output 0\n",
    "\n",
    "```\n",
    "3\n",
    "```\n",
    "#### Explanation 0\n",
    "$n=3$\n",
    "`n` is odd and odd numbers are wierd, so print `Wierd`.\n",
    "\n",
    "#### Sample input 1\n",
    "\n",
    "```\n",
    "24\n",
    "```\n",
    "#### Sample output 1\n",
    "\n",
    "```\n",
    "Not Wierd\n",
    "```\n",
    "#### Explanation 1\n",
    "\n",
    "$n=24$\n",
    "$n>20$ and `n` is even, so it is not wierd."
   ]
  },
  {
   "cell_type": "code",
   "execution_count": null,
   "metadata": {},
   "outputs": [],
   "source": []
  }
 ],
 "metadata": {
  "language_info": {
   "name": "python"
  },
  "orig_nbformat": 4
 },
 "nbformat": 4,
 "nbformat_minor": 2
}
